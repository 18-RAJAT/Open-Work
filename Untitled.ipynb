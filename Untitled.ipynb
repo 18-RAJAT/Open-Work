{
 "cells": [],
 "metadata": {
  "kernelspec": {
   "display_name": "Python 3 (ipykernel)",
   "language": "python",
   "name": "python3"
  },
  "language_info": {
   "codemirror_mode": {
    "name": "ipython",
    "version": 3
   },
   "file_extension": ".py",
   "mimetype": "text/x-python",
   "name": "python",
   "nbconvert_exporter": "python",
   "pygments_lexer": "ipython3",
   "version": "3.11.0"
  },
  "vscode": {
   "interpreter": {
    "hash": "e6dffa141ccbb050ca9c75b4b68aaff4a675a35f8bc437718d69ad72c1fa488a"
   }
  }
 },
 "nbformat": 4,
 "nbformat_minor": 5
}
